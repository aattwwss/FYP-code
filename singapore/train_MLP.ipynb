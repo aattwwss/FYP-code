{
 "cells": [
  {
   "cell_type": "code",
   "execution_count": 1,
   "metadata": {},
   "outputs": [],
   "source": [
    "from matplotlib import pyplot\n",
    "from tensorflow.keras.models import Sequential\n",
    "from tensorflow.keras.layers import Dense\n",
    "import numpy as np\n",
    "import pandas as pd"
   ]
  },
  {
   "cell_type": "code",
   "execution_count": 2,
   "metadata": {},
   "outputs": [],
   "source": [
    "def series_to_supervised(data, n_in=1, n_out=1, dropnan=True):\n",
    "    \"\"\"\n",
    "    Frame a time series as a supervised learning dataset.\n",
    "    Arguments:\n",
    "        data: Sequence of observations as a list or NumPy array.\n",
    "        n_in: Number of lag observations as input (X).\n",
    "        n_out: Number of observations as output (y).\n",
    "        dropnan: Boolean whether or not to drop rows with NaN values.\n",
    "    Returns:\n",
    "        Pandas DataFrame of series framed for supervised learning.\n",
    "    \"\"\"\n",
    "    n_vars = 1 if type(data) is list else data.shape[1]\n",
    "    df = pd.DataFrame(data)\n",
    "    cols, names = list(), list()\n",
    "    # input sequence (t-n, ... t-1)\n",
    "    for i in range(n_in, 0, -1):\n",
    "        cols.append(df.shift(i))\n",
    "        names += [('var%d(t-%d)' % (j+1, i)) for j in range(n_vars)]\n",
    "    # forecast sequence (t, t+1, ... t+n)\n",
    "    for i in range(0, n_out):\n",
    "        cols.append(df.shift(-i))\n",
    "        if i == 0:\n",
    "            names += [('var%d(t)' % (j+1)) for j in range(n_vars)]\n",
    "        else:\n",
    "            names += [('var%d(t+%d)' % (j+1, i)) for j in range(n_vars)]\n",
    "    # put it all together\n",
    "    agg = pd.concat(cols, axis=1)\n",
    "    agg.columns = names\n",
    "    # drop rows with NaN values\n",
    "    if dropnan:\n",
    "        agg.dropna(inplace=True)\n",
    "    return agg"
   ]
  },
  {
   "cell_type": "code",
   "execution_count": 3,
   "metadata": {},
   "outputs": [],
   "source": [
    "#Load and Truncate Data\n",
    "df_2019 = pd.read_csv(\"data/2019_WEP.csv\",usecols=['WEP ($/MWh)'])\n",
    "time_index = pd.date_range(start='1/1/2019 00:00:00', end='31/12/2019 23:30:00', freq=\"30min\")\n",
    "df_2019.index = time_index\n",
    "std = df_2019['WEP ($/MWh)'].std()\n",
    "mean = df_2019['WEP ($/MWh)'].mean()\n",
    "df_2019['WEP ($/MWh)'].loc[df_2019['WEP ($/MWh)'] > mean + 3*std] = mean + 3*std"
   ]
  },
  {
   "cell_type": "code",
   "execution_count": 4,
   "metadata": {},
   "outputs": [],
   "source": [
    "#Convert to supervised and shuffle\n",
    "dataset = series_to_supervised(df_2019,336,48).sample(frac=1)"
   ]
  },
  {
   "cell_type": "code",
   "execution_count": 5,
   "metadata": {},
   "outputs": [
    {
     "name": "stdout",
     "output_type": "stream",
     "text": [
      "(17137, 384)\n",
      "Feature shape: (336,)\n",
      "(17137, 336)\n",
      "(17137, 48)\n",
      "Train on 13709 samples, validate on 3428 samples\n",
      "Epoch 1/10\n",
      "13709/13709 - 2s - loss: 16.7493 - mean_squared_error: 1084.5160 - val_loss: 13.5383 - val_mean_squared_error: 828.1228\n",
      "Epoch 2/10\n",
      "13709/13709 - 2s - loss: 13.0197 - mean_squared_error: 802.2628 - val_loss: 12.7434 - val_mean_squared_error: 815.6340\n",
      "Epoch 3/10\n",
      "13709/13709 - 1s - loss: 12.4559 - mean_squared_error: 780.7091 - val_loss: 12.3705 - val_mean_squared_error: 777.5724\n",
      "Epoch 4/10\n",
      "13709/13709 - 1s - loss: 12.4085 - mean_squared_error: 776.3137 - val_loss: 12.1101 - val_mean_squared_error: 787.0121\n",
      "Epoch 5/10\n",
      "13709/13709 - 1s - loss: 12.0177 - mean_squared_error: 763.1234 - val_loss: 12.1311 - val_mean_squared_error: 746.1881\n",
      "Epoch 6/10\n",
      "13709/13709 - 1s - loss: 11.8299 - mean_squared_error: 754.4236 - val_loss: 12.2433 - val_mean_squared_error: 803.6346\n",
      "Epoch 7/10\n",
      "13709/13709 - 1s - loss: 11.6818 - mean_squared_error: 748.9665 - val_loss: 11.6973 - val_mean_squared_error: 752.6175\n",
      "Epoch 8/10\n",
      "13709/13709 - 1s - loss: 11.6023 - mean_squared_error: 746.6334 - val_loss: 12.0582 - val_mean_squared_error: 787.7416\n",
      "Epoch 9/10\n",
      "13709/13709 - 1s - loss: 11.4854 - mean_squared_error: 741.7939 - val_loss: 11.5079 - val_mean_squared_error: 754.1558\n",
      "Epoch 10/10\n",
      "13709/13709 - 1s - loss: 11.5482 - mean_squared_error: 738.2858 - val_loss: 11.7495 - val_mean_squared_error: 747.1298\n",
      "747.1298\n",
      "Saved model to disk\n"
     ]
    },
    {
     "data": {
      "text/plain": [
       "<matplotlib.legend.Legend at 0x1822f7d7550>"
      ]
     },
     "execution_count": 5,
     "metadata": {},
     "output_type": "execute_result"
    },
    {
     "data": {
      "image/png": "[encoded data removed]",
      "text/plain": [
       "<Figure size 432x288 with 1 Axes>"
      ]
     },
     "metadata": {
      "needs_background": "light"
     },
     "output_type": "display_data"
    }
   ],
   "source": [
    "print(dataset.shape)\n",
    "\n",
    "# Separate features and targets\n",
    "X = dataset.iloc[:, :-48]\n",
    "Y = dataset.iloc[:, -48:]\n",
    "\n",
    "# Set the input shape\n",
    "input_shape = (336,)\n",
    "print(f'Feature shape: {input_shape}')\n",
    "\n",
    "print(X.shape)\n",
    "print (Y.shape)\n",
    "\n",
    "# Create the model\n",
    "model = Sequential()\n",
    "model.add(Dense(240, input_shape=input_shape, activation='relu'))\n",
    "model.add(Dense(240, activation='relu'))\n",
    "model.add(Dense(48, activation='linear'))\n",
    "\n",
    "# Configure the model and start training\n",
    "model.compile(loss='mean_absolute_error', optimizer='adam', metrics=['mean_squared_error'])\n",
    "\n",
    "history=model.fit(X, Y, epochs=10, batch_size=64, verbose=2, validation_split=0.2)\n",
    "\n",
    "print (history.history['val_mean_squared_error'][9])\n",
    "\n",
    "model.save(\"model_240_240_MLP_10_64.h5\")\n",
    "print(\"Saved model to disk\")\n",
    "\n",
    "pyplot.plot(history.history['loss'], label='train')\n",
    "pyplot.plot(history.history['val_loss'], label='test')\n",
    "pyplot.legend()\n",
    "\n"
   ]
  }
 ],
 "metadata": {
  "kernelspec": {
   "display_name": "Python 3",
   "language": "python",
   "name": "python3"
  },
  "language_info": {
   "codemirror_mode": {
    "name": "ipython",
    "version": 3
   },
   "file_extension": ".py",
   "mimetype": "text/x-python",
   "name": "python",
   "nbconvert_exporter": "python",
   "pygments_lexer": "ipython3",
   "version": "3.7.0"
  }
 },
 "nbformat": 4,
 "nbformat_minor": 4
}
