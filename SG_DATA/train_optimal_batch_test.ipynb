{
 "cells": [
  {
   "cell_type": "code",
   "execution_count": 10,
   "metadata": {
    "scrolled": true
   },
   "outputs": [],
   "source": [
    "train_loc = 'MLP_in336_out48.csv'\n",
    "test_loc = '2020_WEP.csv'"
   ]
  },
  {
   "cell_type": "code",
   "execution_count": 11,
   "metadata": {
    "scrolled": true
   },
   "outputs": [],
   "source": [
    "# Load dependencies\n",
    "from matplotlib import pyplot\n",
    "from keras.models import Sequential\n",
    "from keras.layers import Dense\n",
    "import numpy as np\n",
    "import time"
   ]
  },
  {
   "cell_type": "code",
   "execution_count": 13,
   "metadata": {
    "scrolled": true
   },
   "outputs": [
    {
     "name": "stdout",
     "output_type": "stream",
     "text": [
      "(17137, 384)\n",
      "64 - Test 1\n",
      "Time taken = 209.5043077468872\n",
      "64 - Test 2\n",
      "Time taken = 212.7654447555542\n",
      "[475.81866455 478.4708252 ]\n",
      "64 - Test 3\n",
      "Time taken = 214.12566709518433\n",
      "64 - Test 4\n",
      "Time taken = 214.6963415145874\n",
      "64 - Test 5\n",
      "Time taken = 214.29257225990295\n",
      "48 - Test 1\n",
      "Time taken = 291.39850211143494\n",
      "48 - Test 2\n",
      "Time taken = 297.48104596138\n",
      "[486.42706299 485.44842529]\n",
      "48 - Test 3\n",
      "Time taken = 314.17450857162476\n",
      "48 - Test 4\n",
      "Time taken = 308.2758777141571\n",
      "48 - Test 5\n",
      "Time taken = 314.1685116291046\n",
      "32 - Test 1\n",
      "Time taken = 464.3412616252899\n",
      "32 - Test 2\n",
      "Time taken = 458.6704640388489\n",
      "[479.67559814 538.42871094]\n",
      "32 - Test 3\n",
      "Time taken = 432.63183212280273\n",
      "32 - Test 4\n",
      "Time taken = 434.2748920917511\n",
      "32 - Test 5\n",
      "Time taken = 412.57029390335083\n",
      "16 - Test 1\n",
      "Time taken = 802.6844170093536\n",
      "16 - Test 2\n",
      "Time taken = 808.3191974163055\n",
      "[593.17382812 610.40960693]\n",
      "16 - Test 3\n",
      "Time taken = 795.828334569931\n",
      "16 - Test 4\n",
      "Time taken = 803.9067192077637\n",
      "16 - Test 5\n",
      "Time taken = 802.9848313331604\n",
      "8 - Test 1\n",
      "Time taken = 1613.9265718460083\n",
      "8 - Test 2\n",
      "Time taken = 1844.28134059906\n",
      "[650.58129883 623.84240723]\n",
      "8 - Test 3\n",
      "Time taken = 1826.9096412658691\n",
      "8 - Test 4\n",
      "Time taken = 1800.0077443122864\n",
      "8 - Test 5\n",
      "Time taken = 1614.842422246933\n",
      "4 - Test 1\n",
      "Time taken = 3456.468775033951\n",
      "4 - Test 2\n",
      "Time taken = 3620.6281428337097\n",
      "[692.78076172 718.19451904]\n",
      "4 - Test 3\n",
      "Time taken = 3564.741338968277\n",
      "4 - Test 4\n",
      "Time taken = 3459.321506500244\n",
      "4 - Test 5\n",
      "Time taken = 3566.3819868564606\n",
      "TESTING DONE\n",
      "[ 64.         485.65945435  48.         491.71113281  32.\n",
      " 512.46274414  16.         597.22811279   8.         649.40687256\n",
      "   4.         704.22696533]\n"
     ]
    }
   ],
   "source": [
    "# Load data\n",
    "dataset = np.loadtxt(train_loc, delimiter=',', skiprows=1)\n",
    "dataset = dataset.astype('float32')\n",
    "\n",
    "# Shuffle dataset\n",
    "np.random.shuffle(dataset)\n",
    "\n",
    "\n",
    "print(dataset.shape)\n",
    "\n",
    "# Separate features and targets\n",
    "X = dataset[:, :-48]\n",
    "Y = dataset[:, -48:]\n",
    "\n",
    "# Set the input shape\n",
    "input_shape = (336,)\n",
    "\n",
    "\n",
    "list1 = np.array([])\n",
    "\n",
    "\n",
    "# Configure the model and start training\n",
    "for batch in (64,48,32,16,8,4):\n",
    "  list2 = np.array([])\n",
    "  for count in range(5):\n",
    "    # Create the model\n",
    "    model = Sequential()\n",
    "    model.add(Dense(240, input_shape=input_shape, activation='relu'))\n",
    "    model.add(Dense(240, activation='relu'))\n",
    "    model.add(Dense(48, activation='linear'))\n",
    "    print (str(batch) + \" - Test \" + str(count+1))\n",
    "    model.compile(loss='mean_absolute_error', optimizer='adam', metrics=['mean_squared_error'])\n",
    "    start = time.time()\n",
    "    history=model.fit(X, Y, epochs=300, batch_size=batch, verbose=0, validation_split=0.2)\n",
    "    end = time.time()\n",
    "    print(\"Time taken = \" + str(end - start))\n",
    "    history.history['val_mean_squared_error'][4]\n",
    "    list2=np.append(list2,[history.history['val_mean_squared_error'][299]])\n",
    "    if count == 1:\n",
    "      print (list2)\n",
    "      np.savetxt(str(batch) + \"_epoch.csv\", list2, delimiter=\",\")\n",
    "\n",
    "  list1=np.append(list1,[batch,np.sum(list2)/5])\n",
    "  #pyplot.plot(history.history['loss'], label='train')\n",
    "  #pyplot.plot(history.history['val_loss'], label='test')\n",
    "  #pyplot.legend()\n",
    "  #pyplot.savefig(str(epoch) + \"_temp_epoch_loss.png\")\n",
    "print (\"TESTING DONE\")\n",
    "print (list1)\n",
    "np.savetxt(\"mean_batch.csv\", list1, delimiter=\",\")"
   ]
  },
  {
   "cell_type": "code",
   "execution_count": null,
   "metadata": {
    "scrolled": true
   },
   "outputs": [],
   "source": []
  }
 ],
 "metadata": {
  "kernelspec": {
   "display_name": "Python 3",
   "language": "python",
   "name": "python3"
  },
  "language_info": {
   "codemirror_mode": {
    "name": "ipython",
    "version": 3
   },
   "file_extension": ".py",
   "mimetype": "text/x-python",
   "name": "python",
   "nbconvert_exporter": "python",
   "pygments_lexer": "ipython3",
   "version": "3.7.6"
  }
 },
 "nbformat": 4,
 "nbformat_minor": 4
}
