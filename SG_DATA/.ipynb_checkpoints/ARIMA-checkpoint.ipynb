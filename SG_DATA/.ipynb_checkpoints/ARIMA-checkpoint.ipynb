{
 "cells": [
  {
   "cell_type": "code",
   "execution_count": 1,
   "metadata": {
    "colab": {
     "base_uri": "https://localhost:8080/",
     "height": 65
    },
    "colab_type": "code",
    "executionInfo": {
     "elapsed": 6411,
     "status": "ok",
     "timestamp": 1584466755880,
     "user": {
      "displayName": "Alvin Tan",
      "photoUrl": "",
      "userId": "15057128471980347931"
     },
     "user_tz": -480
    },
    "id": "y5B4pXPY6BJJ",
    "outputId": "988af56c-de92-4adb-b4b0-df7609a12b5e"
   },
   "outputs": [],
   "source": [
    "%%capture\n",
    "import pandas as pd\n",
    "import numpy as np\n",
    "from tensorflow.keras.models import load_model\n",
    "import matplotlib.pyplot as plt\n",
    "from datetime import datetime, timedelta\n",
    "from statsmodels.tsa.arima_model import ARIMA\n",
    "import pmdarima as pm\n",
    "import pickle"
   ]
  },
  {
   "cell_type": "code",
   "execution_count": 2,
   "metadata": {
    "colab": {},
    "colab_type": "code",
    "id": "aZbE337FCyoF"
   },
   "outputs": [],
   "source": [
    "# create a differenced series\n",
    "def difference(dataset, interval=1):\n",
    "\tdiff = list()\n",
    "\tfor i in range(interval, len(dataset)):\n",
    "\t\tvalue = dataset[i] - dataset[i - interval]\n",
    "\t\tdiff.append(value)\n",
    "\treturn np.array(diff)\n",
    " \n",
    " # invert differenced value\n",
    "def inverse_difference(history, yhat, interval=1):\n",
    "\treturn yhat + history[-interval]"
   ]
  },
  {
   "cell_type": "code",
   "execution_count": 3,
   "metadata": {
    "colab": {},
    "colab_type": "code",
    "id": "D6LMhE966j-J"
   },
   "outputs": [],
   "source": [
    "root_dir = \"/content/drive/My Drive/Colab Notebooks/\"\n",
    "\n",
    "loc_2019_WEP = \"2019_full_data.csv\"\n",
    "loc_2020_WEP= \"2020_WEP_ONLY.csv\"\n",
    "\n",
    "model_loc = 'model_240_240_MLP_300_64.h5'\n",
    "test_loc = '2020_WEP.csv'\n",
    "\n",
    "wep_2020 = '2020_WEP_ONLY.csv'"
   ]
  },
  {
   "cell_type": "code",
   "execution_count": 4,
   "metadata": {
    "colab": {},
    "colab_type": "code",
    "id": "F3jsz2x0BQY0"
   },
   "outputs": [],
   "source": [
    "df_2019=pd.read_csv(loc_2019_WEP, index_col=0, parse_dates=True, usecols=['DATE','WEP ($/MWh)'])\n",
    "df_2020=pd.read_csv(loc_2020_WEP, index_col=0, parse_dates=True)\n",
    "df_2019.rename(columns={\"WEP ($/MWh)\": \"WEP\"})\n",
    "df_2019_2020=pd.concat([df_2019.rename(columns={\"WEP ($/MWh)\": \"WEP\"}), df_2020])"
   ]
  },
  {
   "cell_type": "code",
   "execution_count": 5,
   "metadata": {
    "colab": {
     "base_uri": "https://localhost:8080/",
     "height": 424
    },
    "colab_type": "code",
    "executionInfo": {
     "elapsed": 1022,
     "status": "ok",
     "timestamp": 1584466761488,
     "user": {
      "displayName": "Alvin Tan",
      "photoUrl": "",
      "userId": "15057128471980347931"
     },
     "user_tz": -480
    },
    "id": "fERTXa8qoMGJ",
    "outputId": "8c55f6b0-e6a0-40a9-8573-b664dc20de5c"
   },
   "outputs": [
    {
     "data": {
      "text/html": [
       "<div>\n",
       "<style scoped>\n",
       "    .dataframe tbody tr th:only-of-type {\n",
       "        vertical-align: middle;\n",
       "    }\n",
       "\n",
       "    .dataframe tbody tr th {\n",
       "        vertical-align: top;\n",
       "    }\n",
       "\n",
       "    .dataframe thead th {\n",
       "        text-align: right;\n",
       "    }\n",
       "</style>\n",
       "<table border=\"1\" class=\"dataframe\">\n",
       "  <thead>\n",
       "    <tr style=\"text-align: right;\">\n",
       "      <th></th>\n",
       "      <th>WEP</th>\n",
       "    </tr>\n",
       "  </thead>\n",
       "  <tbody>\n",
       "    <tr>\n",
       "      <th>2019-12-01 00:00:00</th>\n",
       "      <td>69.10</td>\n",
       "    </tr>\n",
       "    <tr>\n",
       "      <th>2019-12-01 00:30:00</th>\n",
       "      <td>66.19</td>\n",
       "    </tr>\n",
       "    <tr>\n",
       "      <th>2019-12-01 01:00:00</th>\n",
       "      <td>64.29</td>\n",
       "    </tr>\n",
       "    <tr>\n",
       "      <th>2019-12-01 01:30:00</th>\n",
       "      <td>58.33</td>\n",
       "    </tr>\n",
       "    <tr>\n",
       "      <th>2019-12-01 02:00:00</th>\n",
       "      <td>56.82</td>\n",
       "    </tr>\n",
       "    <tr>\n",
       "      <th>...</th>\n",
       "      <td>...</td>\n",
       "    </tr>\n",
       "    <tr>\n",
       "      <th>2019-12-31 21:30:00</th>\n",
       "      <td>75.21</td>\n",
       "    </tr>\n",
       "    <tr>\n",
       "      <th>2019-12-31 22:00:00</th>\n",
       "      <td>72.43</td>\n",
       "    </tr>\n",
       "    <tr>\n",
       "      <th>2019-12-31 22:30:00</th>\n",
       "      <td>69.58</td>\n",
       "    </tr>\n",
       "    <tr>\n",
       "      <th>2019-12-31 23:00:00</th>\n",
       "      <td>70.21</td>\n",
       "    </tr>\n",
       "    <tr>\n",
       "      <th>2019-12-31 23:30:00</th>\n",
       "      <td>66.77</td>\n",
       "    </tr>\n",
       "  </tbody>\n",
       "</table>\n",
       "<p>1488 rows × 1 columns</p>\n",
       "</div>"
      ],
      "text/plain": [
       "                       WEP\n",
       "2019-12-01 00:00:00  69.10\n",
       "2019-12-01 00:30:00  66.19\n",
       "2019-12-01 01:00:00  64.29\n",
       "2019-12-01 01:30:00  58.33\n",
       "2019-12-01 02:00:00  56.82\n",
       "...                    ...\n",
       "2019-12-31 21:30:00  75.21\n",
       "2019-12-31 22:00:00  72.43\n",
       "2019-12-31 22:30:00  69.58\n",
       "2019-12-31 23:00:00  70.21\n",
       "2019-12-31 23:30:00  66.77\n",
       "\n",
       "[1488 rows x 1 columns]"
      ]
     },
     "execution_count": 5,
     "metadata": {},
     "output_type": "execute_result"
    }
   ],
   "source": [
    "predict_date = \"2020-01-25\"\n",
    "input_dataset_start = (datetime.strptime(predict_date, '%Y-%m-%d') - timedelta(days=21)).strftime('%Y-%m-%d')\n",
    "input_dataset_end = (datetime.strptime(predict_date, '%Y-%m-%d') - timedelta(days=1)).strftime('%Y-%m-%d')\n",
    "\n",
    "input_dataset = df_2019_2020['2019-12'].copy()\n",
    "test_dataset = df_2019_2020['2020'].copy()\n",
    "input_dataset"
   ]
  },
  {
   "cell_type": "code",
   "execution_count": 7,
   "metadata": {
    "colab": {
     "base_uri": "https://localhost:8080/",
     "height": 35
    },
    "colab_type": "code",
    "id": "Z5TKiyqaKy8-",
    "outputId": "891524fb-98d2-4c7f-8b95-d59506a6ba65"
   },
   "outputs": [
    {
     "name": "stderr",
     "output_type": "stream",
     "text": [
      "c:\\users\\atan0\\github\\fyp\\fyp-code\\sg_data\\venv\\lib\\site-packages\\statsmodels\\tsa\\statespace\\sarimax.py:963: UserWarning: Non-stationary starting autoregressive parameters found. Using zeros as starting parameters.\n",
      "  warn('Non-stationary starting autoregressive parameters'\n"
     ]
    },
    {
     "name": "stdout",
     "output_type": "stream",
     "text": [
      "                               SARIMAX Results                                \n",
      "==============================================================================\n",
      "Dep. Variable:                      y   No. Observations:                 1488\n",
      "Model:               SARIMAX(2, 1, 2)   Log Likelihood               -4882.386\n",
      "Date:                Wed, 18 Mar 2020   AIC                           9776.773\n",
      "Time:                        20:58:29   BIC                           9808.600\n",
      "Sample:                             0   HQIC                          9788.635\n",
      "                               - 1488                                         \n",
      "Covariance Type:                  opg                                         \n",
      "==============================================================================\n",
      "                 coef    std err          z      P>|z|      [0.025      0.975]\n",
      "------------------------------------------------------------------------------\n",
      "intercept      0.0003      0.001      0.316      0.752      -0.002       0.002\n",
      "ar.L1          1.6281      0.034     48.209      0.000       1.562       1.694\n",
      "ar.L2         -0.6953      0.031    -22.259      0.000      -0.757      -0.634\n",
      "ma.L1         -1.4762      0.038    -38.919      0.000      -1.551      -1.402\n",
      "ma.L2          0.4805      0.038     12.729      0.000       0.407       0.555\n",
      "sigma2        41.5679      0.373    111.531      0.000      40.837      42.298\n",
      "===================================================================================\n",
      "Ljung-Box (Q):                       87.24   Jarque-Bera (JB):             88440.88\n",
      "Prob(Q):                              0.00   Prob(JB):                         0.00\n",
      "Heteroskedasticity (H):               0.32   Skew:                             1.47\n",
      "Prob(H) (two-sided):                  0.00   Kurtosis:                        40.67\n",
      "===================================================================================\n",
      "\n",
      "Warnings:\n",
      "[1] Covariance matrix calculated using the outer product of gradients (complex-step).\n"
     ]
    }
   ],
   "source": [
    "model = pm.auto_arima(input_dataset.values, Seasonal=True, p=2 ,d=1, q=2, m=48)\n",
    "\n",
    "print(model.summary())"
   ]
  },
  {
   "cell_type": "code",
   "execution_count": 9,
   "metadata": {},
   "outputs": [],
   "source": [
    "with open('arima_test.pkl', 'wb') as pkl:\n",
    "    pickle.dump(model, pkl)"
   ]
  },
  {
   "cell_type": "code",
   "execution_count": 10,
   "metadata": {
    "colab": {},
    "colab_type": "code",
    "id": "obr7aAhGDvHx"
   },
   "outputs": [
    {
     "data": {
      "text/plain": [
       "'\\n# seasonal difference\\nX = df_2020.values\\nweekly_timesteps = 336\\ndifferenced = difference(X, weekly_timesteps)\\nprint (differenced.shape)\\n# fit model\\nmodel = ARIMA(differenced, order=(7,0,1))\\nmodel_fit = model.fit(disp=0)\\n# print summary of fit model\\nprint(model_fit.summary())'"
      ]
     },
     "execution_count": 10,
     "metadata": {},
     "output_type": "execute_result"
    }
   ],
   "source": [
    "with open('arima.pkl', 'rb') as pkl:\n",
    "    pickle_preds = pickle.load(pkl)\n",
    "\"\"\"\n",
    "# seasonal difference\n",
    "X = df_2020.values\n",
    "weekly_timesteps = 336\n",
    "differenced = difference(X, weekly_timesteps)\n",
    "print (differenced.shape)\n",
    "# fit model\n",
    "model = ARIMA(differenced, order=(7,0,1))\n",
    "model_fit = model.fit(disp=0)\n",
    "# print summary of fit model\n",
    "print(model_fit.summary())\"\"\""
   ]
  },
  {
   "cell_type": "code",
   "execution_count": 11,
   "metadata": {
    "colab": {},
    "colab_type": "code",
    "id": "jSgMyMEaGau9"
   },
   "outputs": [
    {
     "data": {
      "text/html": [
       "<table class=\"simpletable\">\n",
       "<caption>SARIMAX Results</caption>\n",
       "<tr>\n",
       "  <th>Dep. Variable:</th>           <td>y</td>        <th>  No. Observations:  </th>   <td>1488</td>   \n",
       "</tr>\n",
       "<tr>\n",
       "  <th>Model:</th>           <td>SARIMAX(2, 1, 2)</td> <th>  Log Likelihood     </th> <td>-4882.386</td>\n",
       "</tr>\n",
       "<tr>\n",
       "  <th>Date:</th>            <td>Wed, 18 Mar 2020</td> <th>  AIC                </th> <td>9776.773</td> \n",
       "</tr>\n",
       "<tr>\n",
       "  <th>Time:</th>                <td>21:28:29</td>     <th>  BIC                </th> <td>9808.600</td> \n",
       "</tr>\n",
       "<tr>\n",
       "  <th>Sample:</th>                  <td>0</td>        <th>  HQIC               </th> <td>9788.635</td> \n",
       "</tr>\n",
       "<tr>\n",
       "  <th></th>                      <td> - 1488</td>     <th>                     </th>     <td> </td>    \n",
       "</tr>\n",
       "<tr>\n",
       "  <th>Covariance Type:</th>        <td>opg</td>       <th>                     </th>     <td> </td>    \n",
       "</tr>\n",
       "</table>\n",
       "<table class=\"simpletable\">\n",
       "<tr>\n",
       "      <td></td>         <th>coef</th>     <th>std err</th>      <th>z</th>      <th>P>|z|</th>  <th>[0.025</th>    <th>0.975]</th>  \n",
       "</tr>\n",
       "<tr>\n",
       "  <th>intercept</th> <td>    0.0003</td> <td>    0.001</td> <td>    0.316</td> <td> 0.752</td> <td>   -0.002</td> <td>    0.002</td>\n",
       "</tr>\n",
       "<tr>\n",
       "  <th>ar.L1</th>     <td>    1.6281</td> <td>    0.034</td> <td>   48.209</td> <td> 0.000</td> <td>    1.562</td> <td>    1.694</td>\n",
       "</tr>\n",
       "<tr>\n",
       "  <th>ar.L2</th>     <td>   -0.6953</td> <td>    0.031</td> <td>  -22.259</td> <td> 0.000</td> <td>   -0.757</td> <td>   -0.634</td>\n",
       "</tr>\n",
       "<tr>\n",
       "  <th>ma.L1</th>     <td>   -1.4762</td> <td>    0.038</td> <td>  -38.919</td> <td> 0.000</td> <td>   -1.551</td> <td>   -1.402</td>\n",
       "</tr>\n",
       "<tr>\n",
       "  <th>ma.L2</th>     <td>    0.4805</td> <td>    0.038</td> <td>   12.729</td> <td> 0.000</td> <td>    0.407</td> <td>    0.555</td>\n",
       "</tr>\n",
       "<tr>\n",
       "  <th>sigma2</th>    <td>   41.5679</td> <td>    0.373</td> <td>  111.531</td> <td> 0.000</td> <td>   40.837</td> <td>   42.298</td>\n",
       "</tr>\n",
       "</table>\n",
       "<table class=\"simpletable\">\n",
       "<tr>\n",
       "  <th>Ljung-Box (Q):</th>          <td>87.24</td> <th>  Jarque-Bera (JB):  </th> <td>88440.88</td>\n",
       "</tr>\n",
       "<tr>\n",
       "  <th>Prob(Q):</th>                <td>0.00</td>  <th>  Prob(JB):          </th>   <td>0.00</td>  \n",
       "</tr>\n",
       "<tr>\n",
       "  <th>Heteroskedasticity (H):</th> <td>0.32</td>  <th>  Skew:              </th>   <td>1.47</td>  \n",
       "</tr>\n",
       "<tr>\n",
       "  <th>Prob(H) (two-sided):</th>    <td>0.00</td>  <th>  Kurtosis:          </th>   <td>40.67</td> \n",
       "</tr>\n",
       "</table><br/><br/>Warnings:<br/>[1] Covariance matrix calculated using the outer product of gradients (complex-step)."
      ],
      "text/plain": [
       "<class 'statsmodels.iolib.summary.Summary'>\n",
       "\"\"\"\n",
       "                               SARIMAX Results                                \n",
       "==============================================================================\n",
       "Dep. Variable:                      y   No. Observations:                 1488\n",
       "Model:               SARIMAX(2, 1, 2)   Log Likelihood               -4882.386\n",
       "Date:                Wed, 18 Mar 2020   AIC                           9776.773\n",
       "Time:                        21:28:29   BIC                           9808.600\n",
       "Sample:                             0   HQIC                          9788.635\n",
       "                               - 1488                                         \n",
       "Covariance Type:                  opg                                         \n",
       "==============================================================================\n",
       "                 coef    std err          z      P>|z|      [0.025      0.975]\n",
       "------------------------------------------------------------------------------\n",
       "intercept      0.0003      0.001      0.316      0.752      -0.002       0.002\n",
       "ar.L1          1.6281      0.034     48.209      0.000       1.562       1.694\n",
       "ar.L2         -0.6953      0.031    -22.259      0.000      -0.757      -0.634\n",
       "ma.L1         -1.4762      0.038    -38.919      0.000      -1.551      -1.402\n",
       "ma.L2          0.4805      0.038     12.729      0.000       0.407       0.555\n",
       "sigma2        41.5679      0.373    111.531      0.000      40.837      42.298\n",
       "===================================================================================\n",
       "Ljung-Box (Q):                       87.24   Jarque-Bera (JB):             88440.88\n",
       "Prob(Q):                              0.00   Prob(JB):                         0.00\n",
       "Heteroskedasticity (H):               0.32   Skew:                             1.47\n",
       "Prob(H) (two-sided):                  0.00   Kurtosis:                        40.67\n",
       "===================================================================================\n",
       "\n",
       "Warnings:\n",
       "[1] Covariance matrix calculated using the outer product of gradients (complex-step).\n",
       "\"\"\""
      ]
     },
     "execution_count": 11,
     "metadata": {},
     "output_type": "execute_result"
    }
   ],
   "source": [
    "\"\"\"forecast = model_fit.forecast(steps=48)[0]\n",
    "# invert the differenced forecast to something usable\n",
    "history = [x for x in X]\n",
    "predicted=[]\n",
    "day = 1\n",
    "for yhat in forecast:\n",
    "  inverted = inverse_difference(history, yhat, weekly_timesteps)\n",
    "  #print('Day %d: %f' % (day, inverted))\n",
    "  history.append(inverted)\n",
    "  predicted.append(inverted)\n",
    "  day += 1\n",
    "\n",
    "plt.plot(predicted)\n",
    "df_2020['2020-01-01'].plot()\n",
    "len(forecast)\"\"\"\n",
    "\n",
    "pickle_preds.summary()"
   ]
  }
 ],
 "metadata": {
  "colab": {
   "authorship_tag": "ABX9TyM6l2z3u5TFIkR1BN19hdRr",
   "collapsed_sections": [],
   "machine_shape": "hm",
   "mount_file_id": "1jIP4uyC8yGnd1zlIQwI-WaKIKOzevqU0",
   "name": "arima.ipynb",
   "provenance": []
  },
  "kernelspec": {
   "display_name": "Python 3",
   "language": "python",
   "name": "python3"
  },
  "language_info": {
   "codemirror_mode": {
    "name": "ipython",
    "version": 3
   },
   "file_extension": ".py",
   "mimetype": "text/x-python",
   "name": "python",
   "nbconvert_exporter": "python",
   "pygments_lexer": "ipython3",
   "version": "3.7.0"
  }
 },
 "nbformat": 4,
 "nbformat_minor": 1
}
