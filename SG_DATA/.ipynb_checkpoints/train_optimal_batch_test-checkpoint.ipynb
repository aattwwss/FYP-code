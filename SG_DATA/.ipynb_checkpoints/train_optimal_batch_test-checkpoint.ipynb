{
 "cells": [
  {
   "cell_type": "code",
   "execution_count": 10,
   "metadata": {},
   "outputs": [],
   "source": [
    "train_loc = 'MLP_in336_out48.csv'\n",
    "test_loc = '2020_WEP.csv'"
   ]
  },
  {
   "cell_type": "code",
   "execution_count": 11,
   "metadata": {},
   "outputs": [],
   "source": [
    "# Load dependencies\n",
    "from matplotlib import pyplot\n",
    "from keras.models import Sequential\n",
    "from keras.layers import Dense\n",
    "import numpy as np\n",
    "import time"
   ]
  },
  {
   "cell_type": "code",
   "execution_count": 12,
   "metadata": {},
   "outputs": [
    {
     "ename": "SyntaxError",
     "evalue": "invalid syntax (<ipython-input-12-b8d9e380dce5>, line 37)",
     "output_type": "error",
     "traceback": [
      "\u001b[1;36m  File \u001b[1;32m\"<ipython-input-12-b8d9e380dce5>\"\u001b[1;36m, line \u001b[1;32m37\u001b[0m\n\u001b[1;33m    history.history['val_mean_squared_error'][4]\u001b[0m\n\u001b[1;37m          ^\u001b[0m\n\u001b[1;31mSyntaxError\u001b[0m\u001b[1;31m:\u001b[0m invalid syntax\n"
     ]
    }
   ],
   "source": [
    "# Load data\n",
    "dataset = np.loadtxt(train_loc, delimiter=',', skiprows=1)\n",
    "dataset = dataset.astype('float32')\n",
    "\n",
    "# Shuffle dataset\n",
    "np.random.shuffle(dataset)\n",
    "\n",
    "\n",
    "print(dataset.shape)\n",
    "\n",
    "# Separate features and targets\n",
    "X = dataset[:, :-48]\n",
    "Y = dataset[:, -48:]\n",
    "\n",
    "# Set the input shape\n",
    "input_shape = (336,)\n",
    "\n",
    "\n",
    "list1 = np.array([])\n",
    "\n",
    "\n",
    "# Configure the model and start training\n",
    "for batch in (64,48,32,16,8,4):\n",
    "  list2 = np.array([])\n",
    "  for count in range(5):\n",
    "    # Create the model\n",
    "    model = Sequential()\n",
    "    model.add(Dense(240, input_shape=input_shape, activation='relu'))\n",
    "    model.add(Dense(240, activation='relu'))\n",
    "    model.add(Dense(48, activation='linear'))\n",
    "    print (str(batch) + \" - Test \" + str(count+1))\n",
    "    model.compile(loss='mean_absolute_error', optimizer='adam', metrics=['mean_squared_error'])\n",
    "    start = time.time()\n",
    "    history=model.fit(X, Y, epochs=300, batch_size=batch, verbose=0, validation_split=0.2)\n",
    "    end = time.time()\n",
    "    print(\"Time taken = \" + str(end - start))\n",
    "    history.history['val_mean_squared_error'][4]\n",
    "    list2=np.append(list2,[history.history['val_mean_squared_error'][299]])\n",
    "    if count == 1:\n",
    "      print (list2)\n",
    "      np.savetxt(str(batch) + \"_epoch.csv\", list2, delimiter=\",\")\n",
    "\n",
    "  list1=np.append(list1,[batch,np.sum(list2)/5])\n",
    "  #pyplot.plot(history.history['loss'], label='train')\n",
    "  #pyplot.plot(history.history['val_loss'], label='test')\n",
    "  #pyplot.legend()\n",
    "  #pyplot.savefig(str(epoch) + \"_temp_epoch_loss.png\")\n",
    "print (\"TESTING DONE\")\n",
    "print (list1)\n",
    "np.savetxt(\"mean_batch.csv\", list1, delimiter=\",\")"
   ]
  },
  {
   "cell_type": "code",
   "execution_count": null,
   "metadata": {},
   "outputs": [],
   "source": []
  }
 ],
 "metadata": {
  "kernelspec": {
   "display_name": "Python 3",
   "language": "python",
   "name": "python3"
  },
  "language_info": {
   "codemirror_mode": {
    "name": "ipython",
    "version": 3
   },
   "file_extension": ".py",
   "mimetype": "text/x-python",
   "name": "python",
   "nbconvert_exporter": "python",
   "pygments_lexer": "ipython3",
   "version": "3.7.6"
  }
 },
 "nbformat": 4,
 "nbformat_minor": 4
}
