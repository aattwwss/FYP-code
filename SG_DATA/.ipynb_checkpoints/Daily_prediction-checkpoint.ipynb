{
 "cells": [
  {
   "cell_type": "code",
   "execution_count": 79,
   "metadata": {},
   "outputs": [],
   "source": [
    "import pandas as pd\n",
    "import numpy as np\n",
    "from tensorflow.keras.models import load_model\n",
    "import matplotlib.pyplot as plt\n",
    "from datetime import datetime, timedelta"
   ]
  },
  {
   "cell_type": "code",
   "execution_count": 11,
   "metadata": {},
   "outputs": [
    {
     "data": {
      "text/html": [
       "<div>\n",
       "<style scoped>\n",
       "    .dataframe tbody tr th:only-of-type {\n",
       "        vertical-align: middle;\n",
       "    }\n",
       "\n",
       "    .dataframe tbody tr th {\n",
       "        vertical-align: top;\n",
       "    }\n",
       "\n",
       "    .dataframe thead th {\n",
       "        text-align: right;\n",
       "    }\n",
       "</style>\n",
       "<table border=\"1\" class=\"dataframe\">\n",
       "  <thead>\n",
       "    <tr style=\"text-align: right;\">\n",
       "      <th></th>\n",
       "      <th>var1(t-336)</th>\n",
       "      <th>var1(t-335)</th>\n",
       "      <th>var1(t-334)</th>\n",
       "      <th>var1(t-333)</th>\n",
       "      <th>var1(t-332)</th>\n",
       "      <th>var1(t-331)</th>\n",
       "      <th>var1(t-330)</th>\n",
       "      <th>var1(t-329)</th>\n",
       "      <th>var1(t-328)</th>\n",
       "      <th>var1(t-327)</th>\n",
       "      <th>...</th>\n",
       "      <th>var1(t-9)</th>\n",
       "      <th>var1(t-8)</th>\n",
       "      <th>var1(t-7)</th>\n",
       "      <th>var1(t-6)</th>\n",
       "      <th>var1(t-5)</th>\n",
       "      <th>var1(t-4)</th>\n",
       "      <th>var1(t-3)</th>\n",
       "      <th>var1(t-2)</th>\n",
       "      <th>var1(t-1)</th>\n",
       "      <th>WEP</th>\n",
       "    </tr>\n",
       "  </thead>\n",
       "  <tbody>\n",
       "    <tr>\n",
       "      <th>2020-01-08</th>\n",
       "      <td>70.78</td>\n",
       "      <td>75.5</td>\n",
       "      <td>72.69</td>\n",
       "      <td>70.36</td>\n",
       "      <td>70.33</td>\n",
       "      <td>69.55</td>\n",
       "      <td>68.62</td>\n",
       "      <td>67.6</td>\n",
       "      <td>67.04</td>\n",
       "      <td>67.13</td>\n",
       "      <td>...</td>\n",
       "      <td>83.14</td>\n",
       "      <td>85.11</td>\n",
       "      <td>78.91</td>\n",
       "      <td>77.1</td>\n",
       "      <td>75.38</td>\n",
       "      <td>71.4</td>\n",
       "      <td>70.04</td>\n",
       "      <td>68.33</td>\n",
       "      <td>65.77</td>\n",
       "      <td>53.85</td>\n",
       "    </tr>\n",
       "  </tbody>\n",
       "</table>\n",
       "<p>1 rows × 337 columns</p>\n",
       "</div>"
      ],
      "text/plain": [
       "            var1(t-336)  var1(t-335)  var1(t-334)  var1(t-333)  var1(t-332)  \\\n",
       "2020-01-08        70.78         75.5        72.69        70.36        70.33   \n",
       "\n",
       "            var1(t-331)  var1(t-330)  var1(t-329)  var1(t-328)  var1(t-327)  \\\n",
       "2020-01-08        69.55        68.62         67.6        67.04        67.13   \n",
       "\n",
       "            ...  var1(t-9)  var1(t-8)  var1(t-7)  var1(t-6)  var1(t-5)  \\\n",
       "2020-01-08  ...      83.14      85.11      78.91       77.1      75.38   \n",
       "\n",
       "            var1(t-4)  var1(t-3)  var1(t-2)  var1(t-1)    WEP  \n",
       "2020-01-08       71.4      70.04      68.33      65.77  53.85  \n",
       "\n",
       "[1 rows x 337 columns]"
      ]
     },
     "execution_count": 11,
     "metadata": {},
     "output_type": "execute_result"
    }
   ],
   "source": [
    "#Load testset\n",
    "df_2020 = pd.read_csv(\"2020_WEP.csv\", index_col=0, parse_dates=True)\n",
    "df_2020.head(1)"
   ]
  },
  {
   "cell_type": "code",
   "execution_count": 3,
   "metadata": {},
   "outputs": [],
   "source": [
    "#Load model\n",
    "model = load_model('model_MLP_2.h5')"
   ]
  },
  {
   "cell_type": "code",
   "execution_count": 88,
   "metadata": {},
   "outputs": [
    {
     "data": {
      "text/plain": [
       "<matplotlib.axes._subplots.AxesSubplot at 0x1c8e5ce0088>"
      ]
     },
     "execution_count": 88,
     "metadata": {},
     "output_type": "execute_result"
    },
    {
     "data": {
      "image/png": "[encoded data removed]",
      "text/plain": [
       "<Figure size 432x288 with 1 Axes>"
      ]
     },
     "metadata": {
      "needs_background": "light"
     },
     "output_type": "display_data"
    }
   ],
   "source": [
    "date = datetime.strptime('2020-02-10', '%Y-%m-%d')\n",
    "date_predict = date + timedelta(days=1)\n",
    "date_predict = date_predict.strftime('%Y-%m-%d')\n",
    "date = date.strftime('%Y-%m-%d')\n",
    "\n",
    "#Load input date as numpy array\n",
    "arr = df_2020[date].to_numpy()\n",
    "\n",
    "#Predict next 48 steps == 1 day\n",
    "result = model.predict(arr[0:1,:-1])\n",
    "\n",
    "df_compare=pd.DataFrame()\n",
    "df_compare['Actual']=df_2020[date_predict]['WEP']\n",
    "\n",
    "temp=pd.Series(result[0]).to_frame(name='Predicted')\n",
    "\n",
    "temp.index=df_compare.index\n",
    "df_compare['Predicted']=temp['Predicted']\n",
    "df_compare.plot()"
   ]
  },
  {
   "cell_type": "code",
   "execution_count": 81,
   "metadata": {},
   "outputs": [
    {
     "data": {
      "text/plain": [
       "'2020-01-19'"
      ]
     },
     "execution_count": 81,
     "metadata": {},
     "output_type": "execute_result"
    }
   ],
   "source": [
    "date_predict"
   ]
  }
 ],
 "metadata": {
  "kernelspec": {
   "display_name": "Python 3",
   "language": "python",
   "name": "python3"
  },
  "language_info": {
   "codemirror_mode": {
    "name": "ipython",
    "version": 3
   },
   "file_extension": ".py",
   "mimetype": "text/x-python",
   "name": "python",
   "nbconvert_exporter": "python",
   "pygments_lexer": "ipython3",
   "version": "3.7.6"
  }
 },
 "nbformat": 4,
 "nbformat_minor": 4
}
