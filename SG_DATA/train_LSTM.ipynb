{
 "cells": [
  {
   "cell_type": "code",
   "execution_count": 1,
   "metadata": {
    "colab": {},
    "colab_type": "code",
    "id": "duLtrzbsy35C"
   },
   "outputs": [],
   "source": [
    "import pandas as pd\n",
    "import numpy as np\n",
    "import matplotlib.pyplot as plt\n",
    "from tensorflow.keras.models import Sequential\n",
    "from tensorflow.keras.layers import Dense\n",
    "from tensorflow.keras.layers import LSTM"
   ]
  },
  {
   "cell_type": "code",
   "execution_count": 2,
   "metadata": {
    "colab": {},
    "colab_type": "code",
    "id": "UcsJ_mrw14KJ"
   },
   "outputs": [],
   "source": [
    "def series_to_supervised(data, n_in=1, n_out=1, dropnan=True):\n",
    "\tn_vars = 1 if type(data) is list else data.shape[1]\n",
    "\tdf = pd.DataFrame(data)\n",
    "\tcols, names = list(), list()\n",
    "\t# input sequence (t-n, ... t-1)\n",
    "\tfor i in range(n_in, 0, -1):\n",
    "\t\tcols.append(df.shift(i))\n",
    "\t\tnames += [('var%d(t-%d)' % (j+1, i)) for j in range(n_vars)]\n",
    "\t# forecast sequence (t, t+1, ... t+n)\n",
    "\tfor i in range(0, n_out):\n",
    "\t\tcols.append(df.shift(-i))\n",
    "\t\tif i == 0:\n",
    "\t\t\tnames += [('var%d(t)' % (j+1)) for j in range(n_vars)]\n",
    "\t\telse:\n",
    "\t\t\tnames += [('var%d(t+%d)' % (j+1, i)) for j in range(n_vars)]\n",
    "\t# put it all together\n",
    "\tagg = pd.concat(cols, axis=1)\n",
    "\tagg.columns = names\n",
    "\t# drop rows with NaN values\n",
    "\tif dropnan:\n",
    "\t\tagg.dropna(inplace=True)\n",
    "\treturn agg\n",
    "\n",
    "def create_seq(X, y, time_steps=1):\n",
    "    Xs, ys = [], []\n",
    "    for i in range(len(X) - time_steps):\n",
    "        v = X.iloc[i:(i + time_steps)].values\n",
    "        Xs.append(v)\n",
    "        ys.append(y.iloc[i + time_steps])\n",
    "    return np.array(Xs), np.array(ys)\n",
    "\t\n",
    "# split a univariate dataset into train/test sets\n",
    "def split_dataset(data,steps):\n",
    "\t# split into standard weeks\n",
    "\n",
    "\t# restructure into windows of weekly data\n",
    "\ttrain = np.array(np.split(data, len(data)/steps))\n",
    "\n",
    "\treturn train\n",
    "\n",
    "# convert history into inputs and outputs\n",
    "def to_supervised(train, n_input, n_out=7):\n",
    "\t# flatten data\n",
    "\tdata = train.reshape((train.shape[0]*train.shape[1], train.shape[2]))\n",
    "\tX, y = list(), list()\n",
    "\tin_start = 0\n",
    "\t# step over the entire history one time step at a time\n",
    "\tfor _ in range(len(data)):\n",
    "\t\t# define the end of the input sequence\n",
    "\t\tin_end = in_start + n_input\n",
    "\t\tout_end = in_end + n_out\n",
    "\t\t# ensure we have enough data for this instance\n",
    "\t\tif out_end <= len(data):\n",
    "\t\t\tx_input = data[in_start:in_end, 0]\n",
    "\t\t\tx_input = x_input.reshape((len(x_input), 1))\n",
    "\t\t\tX.append(x_input)\n",
    "\t\t\ty.append(data[in_end:out_end, 0])\n",
    "\t\t# move along one time step\n",
    "\t\tin_start += 1\n",
    "\treturn np.array(X), np.array(y)"
   ]
  },
  {
   "cell_type": "code",
   "execution_count": 3,
   "metadata": {
    "colab": {},
    "colab_type": "code",
    "id": "kcz-qOSm0FIW"
   },
   "outputs": [],
   "source": [
    "root_dir = \"./\"\n",
    "\n",
    "loc_2019_WEP = root_dir + \"2019_full_data.csv\"\n",
    "loc_2020_WEP= root_dir + \"2020_WEP_ONLY.csv\"\n",
    "\n",
    "#load dataset\n",
    "\n",
    "df_2019=pd.read_csv(loc_2019_WEP, index_col=0, parse_dates=True, usecols=['DATE','WEP ($/MWh)'])\n",
    "df_2020=pd.read_csv(loc_2020_WEP, index_col=0, parse_dates=True)"
   ]
  },
  {
   "cell_type": "code",
   "execution_count": 4,
   "metadata": {
    "colab": {},
    "colab_type": "code",
    "id": "CrxuSEql0OMy"
   },
   "outputs": [],
   "source": [
    "x = split_dataset(df_2019.values, 48)"
   ]
  },
  {
   "cell_type": "code",
   "execution_count": 5,
   "metadata": {
    "colab": {},
    "colab_type": "code",
    "id": "GeR7Mf1y2Rz8"
   },
   "outputs": [],
   "source": [
    "data = x.reshape((x.shape[0]*x.shape[1],x.shape[2]))"
   ]
  },
  {
   "cell_type": "code",
   "execution_count": 6,
   "metadata": {
    "colab": {},
    "colab_type": "code",
    "id": "chTx1x4urqoV"
   },
   "outputs": [],
   "source": [
    "train_x, train_y = to_supervised(x,336,48)"
   ]
  },
  {
   "cell_type": "code",
   "execution_count": null,
   "metadata": {
    "colab": {
     "base_uri": "https://localhost:8080/",
     "height": 1000
    },
    "colab_type": "code",
    "id": "IUTYYzuauoCR",
    "outputId": "2f7928c8-6377-470a-8ff4-a30ee7634cfc"
   },
   "outputs": [
    {
     "name": "stdout",
     "output_type": "stream",
     "text": [
      "Train on 17137 samples\n",
      "Epoch 1/1000\n",
      "17137/17137 [==============================] - 114s 7ms/sample - loss: 6064275610.5622\n",
      "Epoch 2/1000\n",
      "17137/17137 [==============================] - 112s 7ms/sample - loss: 12274.2980\n",
      "Epoch 3/1000\n",
      "17137/17137 [==============================] - 119s 7ms/sample - loss: 12270.4543\n",
      "Epoch 4/1000\n",
      "17137/17137 [==============================] - 143s 8ms/sample - loss: 12265.7279\n",
      "Epoch 5/1000\n",
      "17137/17137 [==============================] - 126s 7ms/sample - loss: 12260.1397\n",
      "Epoch 6/1000\n",
      "17137/17137 [==============================] - 124s 7ms/sample - loss: 12253.6336\n",
      "Epoch 7/1000\n",
      "17137/17137 [==============================] - 113s 7ms/sample - loss: 12246.1187\n",
      "Epoch 8/1000\n",
      "17137/17137 [==============================] - 112s 7ms/sample - loss: 12237.4295\n",
      "Epoch 9/1000\n",
      "17137/17137 [==============================] - 113s 7ms/sample - loss: 12227.5235\n",
      "Epoch 10/1000\n",
      "17137/17137 [==============================] - 114s 7ms/sample - loss: 12216.1442\n",
      "Epoch 11/1000\n",
      "17137/17137 [==============================] - 123s 7ms/sample - loss: 12203.0810\n",
      "Epoch 12/1000\n",
      "17137/17137 [==============================] - 115s 7ms/sample - loss: 12188.0877\n",
      "Epoch 13/1000\n",
      "17137/17137 [==============================] - 142s 8ms/sample - loss: 12170.9193\n",
      "Epoch 14/1000\n",
      "17137/17137 [==============================] - 124s 7ms/sample - loss: 12151.3003\n",
      "Epoch 15/1000\n",
      "17137/17137 [==============================] - 114s 7ms/sample - loss: 12128.9170\n",
      "Epoch 16/1000\n",
      "17137/17137 [==============================] - 114s 7ms/sample - loss: 12103.4832\n",
      "Epoch 17/1000\n",
      "17137/17137 [==============================] - 114s 7ms/sample - loss: 12074.6649\n",
      "Epoch 18/1000\n",
      "17137/17137 [==============================] - 114s 7ms/sample - loss: 12042.1627\n",
      "Epoch 19/1000\n",
      "17137/17137 [==============================] - 114s 7ms/sample - loss: 12005.7233\n",
      "Epoch 20/1000\n",
      "17137/17137 [==============================] - 123s 7ms/sample - loss: 11965.1682\n",
      "Epoch 21/1000\n",
      "17137/17137 [==============================] - 121s 7ms/sample - loss: 11920.4015\n",
      "Epoch 22/1000\n",
      "17137/17137 [==============================] - 116s 7ms/sample - loss: 11871.3823\n",
      "Epoch 23/1000\n",
      "17137/17137 [==============================] - 116s 7ms/sample - loss: 11818.3382\n",
      "Epoch 24/1000\n",
      "17137/17137 [==============================] - 115s 7ms/sample - loss: 11761.4184\n",
      "Epoch 25/1000\n",
      "17137/17137 [==============================] - 115s 7ms/sample - loss: 11701.0231\n",
      "Epoch 26/1000\n",
      "17137/17137 [==============================] - 122s 7ms/sample - loss: 11637.5088\n",
      "Epoch 27/1000\n",
      "17137/17137 [==============================] - 126s 7ms/sample - loss: 11571.3685\n",
      "Epoch 28/1000\n",
      "17137/17137 [==============================] - 117s 7ms/sample - loss: 11503.0408\n",
      "Epoch 29/1000\n",
      "17137/17137 [==============================] - 116s 7ms/sample - loss: 11432.9771\n",
      "Epoch 30/1000\n",
      "17137/17137 [==============================] - 116s 7ms/sample - loss: 11361.7162\n",
      "Epoch 31/1000\n",
      "17137/17137 [==============================] - 116s 7ms/sample - loss: 11289.5191\n",
      "Epoch 32/1000\n",
      "17137/17137 [==============================] - 116s 7ms/sample - loss: 11216.7650\n",
      "Epoch 33/1000\n",
      "17137/17137 [==============================] - 116s 7ms/sample - loss: 11143.6820\n",
      "Epoch 34/1000\n",
      "17137/17137 [==============================] - 116s 7ms/sample - loss: 11070.4204\n",
      "Epoch 35/1000\n",
      "17137/17137 [==============================] - 116s 7ms/sample - loss: 10997.1804\n",
      "Epoch 36/1000\n",
      "17137/17137 [==============================] - 119s 7ms/sample - loss: 10924.2104\n",
      "Epoch 37/1000\n",
      "17137/17137 [==============================] - 131s 8ms/sample - loss: 10851.3855\n",
      "Epoch 38/1000\n",
      "17137/17137 [==============================] - 133s 8ms/sample - loss: 10778.7955\n",
      "Epoch 39/1000\n",
      "17137/17137 [==============================] - 125s 7ms/sample - loss: 10706.4082\n",
      "Epoch 40/1000\n",
      "17137/17137 [==============================] - 137s 8ms/sample - loss: 10634.3137\n",
      "Epoch 41/1000\n",
      "17137/17137 [==============================] - 133s 8ms/sample - loss: 10562.5270\n",
      "Epoch 42/1000\n",
      "17137/17137 [==============================] - 117s 7ms/sample - loss: 10491.0377\n",
      "Epoch 43/1000\n",
      "17137/17137 [==============================] - 114s 7ms/sample - loss: 10419.9258\n",
      "Epoch 44/1000\n",
      "17137/17137 [==============================] - 115s 7ms/sample - loss: 10349.0986\n",
      "Epoch 45/1000\n",
      "17137/17137 [==============================] - 115s 7ms/sample - loss: 10278.6400\n",
      "Epoch 46/1000\n",
      "17137/17137 [==============================] - 115s 7ms/sample - loss: 10208.4797\n",
      "Epoch 47/1000\n",
      "17137/17137 [==============================] - 131s 8ms/sample - loss: 10138.5827\n",
      "Epoch 48/1000\n",
      "17137/17137 [==============================] - 122s 7ms/sample - loss: 10069.0121\n",
      "Epoch 49/1000\n",
      "17137/17137 [==============================] - 116s 7ms/sample - loss: 9999.8000\n",
      "Epoch 50/1000\n",
      "17137/17137 [==============================] - 116s 7ms/sample - loss: 9930.8977\n",
      "Epoch 51/1000\n",
      "17137/17137 [==============================] - 115s 7ms/sample - loss: 9862.3975\n",
      "Epoch 52/1000\n",
      "17137/17137 [==============================] - 117s 7ms/sample - loss: 9794.2040\n",
      "Epoch 53/1000\n",
      "17137/17137 [==============================] - 128s 7ms/sample - loss: 9726.3156\n",
      "Epoch 54/1000\n",
      "17137/17137 [==============================] - 115s 7ms/sample - loss: 9658.7553\n",
      "Epoch 55/1000\n",
      "17137/17137 [==============================] - 125s 7ms/sample - loss: 9591.5150\n",
      "Epoch 56/1000\n",
      "17137/17137 [==============================] - 133s 8ms/sample - loss: 9524.6150\n",
      "Epoch 57/1000\n",
      "17137/17137 [==============================] - 143s 8ms/sample - loss: 9457.9728\n",
      "Epoch 58/1000\n",
      "17137/17137 [==============================] - 115s 7ms/sample - loss: 9391.7662\n",
      "Epoch 59/1000\n",
      "17137/17137 [==============================] - 115s 7ms/sample - loss: 9325.8509\n",
      "Epoch 60/1000\n",
      "17137/17137 [==============================] - 135s 8ms/sample - loss: 9260.3075\n",
      "Epoch 61/1000\n",
      "17137/17137 [==============================] - 135s 8ms/sample - loss: 9195.0634\n",
      "Epoch 62/1000\n",
      "17137/17137 [==============================] - 115s 7ms/sample - loss: 9130.1672\n",
      "Epoch 63/1000\n",
      "17137/17137 [==============================] - 114s 7ms/sample - loss: 9065.6134\n",
      "Epoch 64/1000\n",
      "17137/17137 [==============================] - 114s 7ms/sample - loss: 9001.3837\n",
      "Epoch 65/1000\n",
      "17137/17137 [==============================] - 116s 7ms/sample - loss: 8937.4662\n",
      "Epoch 66/1000\n",
      "17137/17137 [==============================] - 116s 7ms/sample - loss: 8873.8614\n",
      "Epoch 67/1000\n",
      "17137/17137 [==============================] - 116s 7ms/sample - loss: 8810.5507\n",
      "Epoch 68/1000\n",
      "17137/17137 [==============================] - 116s 7ms/sample - loss: 8747.6072\n",
      "Epoch 69/1000\n",
      "17137/17137 [==============================] - 116s 7ms/sample - loss: 8685.0204\n",
      "Epoch 70/1000\n",
      "17137/17137 [==============================] - 115s 7ms/sample - loss: 8622.7450\n",
      "Epoch 71/1000\n",
      "17137/17137 [==============================] - 116s 7ms/sample - loss: 8560.8217\n",
      "Epoch 72/1000\n",
      "17137/17137 [==============================] - 115s 7ms/sample - loss: 8499.2323\n",
      "Epoch 73/1000\n",
      "17137/17137 [==============================] - 114s 7ms/sample - loss: 8437.8258\n",
      "Epoch 74/1000\n",
      "17137/17137 [==============================] - 129s 8ms/sample - loss: 8376.9569\n",
      "Epoch 75/1000\n",
      "17137/17137 [==============================] - 119s 7ms/sample - loss: 8316.3932\n",
      "Epoch 76/1000\n",
      "17137/17137 [==============================] - 119s 7ms/sample - loss: 8256.1322\n",
      "Epoch 77/1000\n",
      "17137/17137 [==============================] - 120s 7ms/sample - loss: 8196.1748\n",
      "Epoch 78/1000\n",
      "17137/17137 [==============================] - 119s 7ms/sample - loss: 8136.5558\n",
      "Epoch 79/1000\n",
      "17137/17137 [==============================] - 119s 7ms/sample - loss: 8077.2595\n",
      "Epoch 80/1000\n",
      "17137/17137 [==============================] - 120s 7ms/sample - loss: 8018.2977\n",
      "Epoch 81/1000\n",
      "17137/17137 [==============================] - 119s 7ms/sample - loss: 7959.6597\n",
      "Epoch 82/1000\n",
      "17137/17137 [==============================] - 119s 7ms/sample - loss: 7901.3458\n",
      "Epoch 83/1000\n",
      "17137/17137 [==============================] - 120s 7ms/sample - loss: 7843.4019\n",
      "Epoch 84/1000\n",
      "17137/17137 [==============================] - 120s 7ms/sample - loss: 7785.7203\n",
      "Epoch 85/1000\n",
      "17137/17137 [==============================] - 124s 7ms/sample - loss: 7728.3786\n",
      "Epoch 86/1000\n"
     ]
    },
    {
     "name": "stdout",
     "output_type": "stream",
     "text": [
      " 4956/17137 [=======>......................] - ETA: 1:38 - loss: 7200.5913"
     ]
    }
   ],
   "source": [
    "#train model\n",
    "# prepare data\n",
    "#train_x, train_y = to_supervised(train, n_input)\n",
    "# define parameters\n",
    "verbose, epochs, batch_size = 1, 1000, 42\n",
    "n_timesteps, n_features, n_outputs = train_x.shape[1], train_x.shape[2], train_y.shape[1]\n",
    "# define model\n",
    "model = Sequential()\n",
    "model.add(LSTM(200, activation='relu', input_shape=(n_timesteps, n_features)))\n",
    "model.add(Dense(100, activation='relu'))\n",
    "model.add(Dense(n_outputs))\n",
    "model.compile(loss='mse', optimizer='adam')\n",
    "# fit network\n",
    "history = model.fit(train_x, train_y, epochs=epochs, batch_size=batch_size, verbose=verbose)\n",
    "model.save(root_dir + \"model_LSTM_1000.h5\")"
   ]
  },
  {
   "cell_type": "code",
   "execution_count": null,
   "metadata": {
    "colab": {},
    "colab_type": "code",
    "id": "KXJFQKzHvYAF"
   },
   "outputs": [],
   "source": [
    "#forecasting\n",
    "\n",
    "test = split_dataset(df_2020.values, 48)\n",
    "test_x, test_y = to_supervised(test,336,1)"
   ]
  },
  {
   "cell_type": "code",
   "execution_count": null,
   "metadata": {
    "colab": {
     "base_uri": "https://localhost:8080/",
     "height": 1000
    },
    "colab_type": "code",
    "executionInfo": {
     "elapsed": 979,
     "status": "ok",
     "timestamp": 1585461107352,
     "user": {
      "displayName": "Alvin Tan",
      "photoUrl": "",
      "userId": "15057128471980347931"
     },
     "user_tz": -480
    },
    "id": "5wHf76-F0q6H",
    "outputId": "9742a957-14e4-404f-c40e-022f730d5d5c"
   },
   "outputs": [],
   "source": [
    "asd = model.predict(test_x[20].reshape((1,len(test_x[1]),1)))"
   ]
  },
  {
   "cell_type": "code",
   "execution_count": null,
   "metadata": {},
   "outputs": [],
   "source": [
    "plt.plot(asd[0])\n",
    "plt.plot(test_y)\n",
    "test_x.shape"
   ]
  }
 ],
 "metadata": {
  "accelerator": "GPU",
  "colab": {
   "authorship_tag": "ABX9TyN+XbQwQJKU4SGdAKdV1oVo",
   "collapsed_sections": [],
   "mount_file_id": "1ruV0ZDxvzISkhHCgCrIrhqkU1xfjhdAK",
   "name": "train_LSTM.ipynb",
   "provenance": []
  },
  "kernelspec": {
   "display_name": "Python 3",
   "language": "python",
   "name": "python3"
  },
  "language_info": {
   "codemirror_mode": {
    "name": "ipython",
    "version": 3
   },
   "file_extension": ".py",
   "mimetype": "text/x-python",
   "name": "python",
   "nbconvert_exporter": "python",
   "pygments_lexer": "ipython3",
   "version": "3.7.6"
  }
 },
 "nbformat": 4,
 "nbformat_minor": 1
}
