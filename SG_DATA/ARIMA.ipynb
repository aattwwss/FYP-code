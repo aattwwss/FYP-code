{
 "cells": [
  {
   "cell_type": "code",
   "execution_count": 1,
   "metadata": {
    "colab": {
     "base_uri": "https://localhost:8080/",
     "height": 65
    },
    "colab_type": "code",
    "executionInfo": {
     "elapsed": 6411,
     "status": "ok",
     "timestamp": 1584466755880,
     "user": {
      "displayName": "Alvin Tan",
      "photoUrl": "",
      "userId": "15057128471980347931"
     },
     "user_tz": -480
    },
    "id": "y5B4pXPY6BJJ",
    "outputId": "988af56c-de92-4adb-b4b0-df7609a12b5e"
   },
   "outputs": [
    {
     "ename": "ImportError",
     "evalue": "cannot import name 'SARIMAX' from 'statsmodels.tsa.arima_model' (c:\\users\\atan0\\github\\fyp\\fyp-code\\sg_data\\venv\\lib\\site-packages\\statsmodels\\tsa\\arima_model.py)",
     "output_type": "error",
     "traceback": [
      "\u001b[1;31m---------------------------------------------------------------------------\u001b[0m",
      "\u001b[1;31mImportError\u001b[0m                               Traceback (most recent call last)",
      "\u001b[1;32m<ipython-input-1-5881fe2cb1fc>\u001b[0m in \u001b[0;36m<module>\u001b[1;34m\u001b[0m\n\u001b[0;32m      4\u001b[0m \u001b[1;32mimport\u001b[0m \u001b[0mmatplotlib\u001b[0m\u001b[1;33m.\u001b[0m\u001b[0mpyplot\u001b[0m \u001b[1;32mas\u001b[0m \u001b[0mplt\u001b[0m\u001b[1;33m\u001b[0m\u001b[0m\n\u001b[0;32m      5\u001b[0m \u001b[1;32mfrom\u001b[0m \u001b[0mdatetime\u001b[0m \u001b[1;32mimport\u001b[0m \u001b[0mdatetime\u001b[0m\u001b[1;33m,\u001b[0m \u001b[0mtimedelta\u001b[0m\u001b[1;33m\u001b[0m\u001b[0m\n\u001b[1;32m----> 6\u001b[1;33m \u001b[1;32mfrom\u001b[0m \u001b[0mstatsmodels\u001b[0m\u001b[1;33m.\u001b[0m\u001b[0mtsa\u001b[0m\u001b[1;33m.\u001b[0m\u001b[0marima_model\u001b[0m \u001b[1;32mimport\u001b[0m \u001b[0mARIMA\u001b[0m\u001b[1;33m,\u001b[0m \u001b[0mSARIMAX\u001b[0m\u001b[1;33m\u001b[0m\u001b[0m\n\u001b[0m\u001b[0;32m      7\u001b[0m \u001b[1;32mimport\u001b[0m \u001b[0mpmdarima\u001b[0m \u001b[1;32mas\u001b[0m \u001b[0mpm\u001b[0m\u001b[1;33m\u001b[0m\u001b[0m\n\u001b[0;32m      8\u001b[0m \u001b[1;32mimport\u001b[0m \u001b[0mpickle\u001b[0m\u001b[1;33m\u001b[0m\u001b[0m\n",
      "\u001b[1;31mImportError\u001b[0m: cannot import name 'SARIMAX' from 'statsmodels.tsa.arima_model' (c:\\users\\atan0\\github\\fyp\\fyp-code\\sg_data\\venv\\lib\\site-packages\\statsmodels\\tsa\\arima_model.py)"
     ]
    }
   ],
   "source": [
    "%%capture\n",
    "import pandas as pd\n",
    "import numpy as np\n",
    "from tensorflow.keras.models import load_model\n",
    "import matplotlib.pyplot as plt\n",
    "from datetime import datetime, timedelta\n",
    "from statsmodels.tsa.arima_model import ARIMA, SARIMAX\n",
    "import pmdarima as pm\n",
    "import pickle"
   ]
  },
  {
   "cell_type": "code",
   "execution_count": null,
   "metadata": {
    "colab": {},
    "colab_type": "code",
    "id": "aZbE337FCyoF"
   },
   "outputs": [],
   "source": [
    "# create a differenced series\n",
    "def difference(dataset, interval=1):\n",
    "\tdiff = list()\n",
    "\tfor i in range(interval, len(dataset)):\n",
    "\t\tvalue = dataset[i] - dataset[i - interval]\n",
    "\t\tdiff.append(value)\n",
    "\treturn np.array(diff)\n",
    " \n",
    " # invert differenced value\n",
    "def inverse_difference(history, yhat, interval=1):\n",
    "\treturn yhat + history[-interval]"
   ]
  },
  {
   "cell_type": "code",
   "execution_count": null,
   "metadata": {
    "colab": {},
    "colab_type": "code",
    "id": "D6LMhE966j-J"
   },
   "outputs": [],
   "source": [
    "root_dir = \"/content/drive/My Drive/Colab Notebooks/\"\n",
    "\n",
    "loc_2019_WEP = \"2019_full_data.csv\"\n",
    "loc_2020_WEP= \"2020_WEP_ONLY.csv\"\n",
    "\n",
    "model_loc = 'model_240_240_MLP_300_64.h5'\n",
    "test_loc = '2020_WEP.csv'\n",
    "\n",
    "wep_2020 = '2020_WEP_ONLY.csv'"
   ]
  },
  {
   "cell_type": "code",
   "execution_count": null,
   "metadata": {
    "colab": {},
    "colab_type": "code",
    "id": "F3jsz2x0BQY0"
   },
   "outputs": [],
   "source": [
    "df_2019=pd.read_csv(loc_2019_WEP, index_col=0, parse_dates=True, usecols=['DATE','WEP ($/MWh)'])\n",
    "df_2020=pd.read_csv(loc_2020_WEP, index_col=0, parse_dates=True)\n",
    "df_2019.rename(columns={\"WEP ($/MWh)\": \"WEP\"})\n",
    "df_2019_2020=pd.concat([df_2019.rename(columns={\"WEP ($/MWh)\": \"WEP\"}), df_2020])"
   ]
  },
  {
   "cell_type": "code",
   "execution_count": null,
   "metadata": {
    "colab": {
     "base_uri": "https://localhost:8080/",
     "height": 424
    },
    "colab_type": "code",
    "executionInfo": {
     "elapsed": 1022,
     "status": "ok",
     "timestamp": 1584466761488,
     "user": {
      "displayName": "Alvin Tan",
      "photoUrl": "",
      "userId": "15057128471980347931"
     },
     "user_tz": -480
    },
    "id": "fERTXa8qoMGJ",
    "outputId": "8c55f6b0-e6a0-40a9-8573-b664dc20de5c"
   },
   "outputs": [],
   "source": [
    "predict_date = \"2020-01-25\"\n",
    "input_dataset_start = (datetime.strptime(predict_date, '%Y-%m-%d') - timedelta(days=21)).strftime('%Y-%m-%d')\n",
    "input_dataset_end = (datetime.strptime(predict_date, '%Y-%m-%d') - timedelta(days=1)).strftime('%Y-%m-%d')\n",
    "\n",
    "input_dataset = df_2019_2020['2019-12'].copy()\n",
    "test_dataset = df_2019_2020['2020'].copy()\n",
    "input_dataset"
   ]
  },
  {
   "cell_type": "code",
   "execution_count": null,
   "metadata": {
    "colab": {
     "base_uri": "https://localhost:8080/",
     "height": 35
    },
    "colab_type": "code",
    "id": "Z5TKiyqaKy8-",
    "outputId": "891524fb-98d2-4c7f-8b95-d59506a6ba65"
   },
   "outputs": [],
   "source": [
    "model = pm.auto_arima(input_dataset.values, Seasonal=True, p=2 ,d=1, q=2, m=48)\n",
    "\n",
    "print(model.summary())"
   ]
  },
  {
   "cell_type": "code",
   "execution_count": null,
   "metadata": {},
   "outputs": [],
   "source": [
    "with open('arima_test.pkl', 'wb') as pkl:\n",
    "    pickle.dump(model, pkl)"
   ]
  },
  {
   "cell_type": "code",
   "execution_count": null,
   "metadata": {
    "colab": {},
    "colab_type": "code",
    "id": "obr7aAhGDvHx"
   },
   "outputs": [],
   "source": [
    "with open('arima.pkl', 'rb') as pkl:\n",
    "    pickle_preds = pickle.load(pkl)\n",
    "\"\"\"\n",
    "# seasonal difference\n",
    "X = df_2020.values\n",
    "weekly_timesteps = 336\n",
    "differenced = difference(X, weekly_timesteps)\n",
    "print (differenced.shape)\n",
    "# fit model\n",
    "model = ARIMA(differenced, order=(7,0,1))\n",
    "model_fit = model.fit(disp=0)\n",
    "# print summary of fit model\n",
    "print(model_fit.summary())\"\"\""
   ]
  },
  {
   "cell_type": "code",
   "execution_count": null,
   "metadata": {
    "colab": {},
    "colab_type": "code",
    "id": "jSgMyMEaGau9"
   },
   "outputs": [],
   "source": [
    "\"\"\"forecast = model_fit.forecast(steps=48)[0]\n",
    "# invert the differenced forecast to something usable\n",
    "history = [x for x in X]\n",
    "predicted=[]\n",
    "day = 1\n",
    "for yhat in forecast:\n",
    "  inverted = inverse_difference(history, yhat, weekly_timesteps)\n",
    "  #print('Day %d: %f' % (day, inverted))\n",
    "  history.append(inverted)\n",
    "  predicted.append(inverted)\n",
    "  day += 1\n",
    "\n",
    "plt.plot(predicted)\n",
    "df_2020['2020-01-01'].plot()\n",
    "len(forecast)\"\"\"\n",
    "\n",
    "pickle_preds.summary()"
   ]
  }
 ],
 "metadata": {
  "colab": {
   "authorship_tag": "ABX9TyM6l2z3u5TFIkR1BN19hdRr",
   "collapsed_sections": [],
   "machine_shape": "hm",
   "mount_file_id": "1jIP4uyC8yGnd1zlIQwI-WaKIKOzevqU0",
   "name": "arima.ipynb",
   "provenance": []
  },
  "kernelspec": {
   "display_name": "Python 3",
   "language": "python",
   "name": "python3"
  },
  "language_info": {
   "codemirror_mode": {
    "name": "ipython",
    "version": 3
   },
   "file_extension": ".py",
   "mimetype": "text/x-python",
   "name": "python",
   "nbconvert_exporter": "python",
   "pygments_lexer": "ipython3",
   "version": "3.7.0"
  }
 },
 "nbformat": 4,
 "nbformat_minor": 1
}
